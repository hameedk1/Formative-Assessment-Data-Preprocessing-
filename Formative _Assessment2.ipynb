{
 "cells": [
  {
   "cell_type": "code",
   "execution_count": 1,
   "id": "ea77ade2-54ad-4399-b521-2c874a4f846a",
   "metadata": {},
   "outputs": [],
   "source": [
    "import pandas as pd\n",
    "import numpy as np\n",
    "import matplotlib.pyplot as plt\n",
    "import seaborn as sns"
   ]
  },
  {
   "cell_type": "code",
   "execution_count": 2,
   "id": "996ba59b-f379-4e9e-8d09-d02ea4d5493b",
   "metadata": {},
   "outputs": [],
   "source": [
    "df = pd.read_csv(\"F:/Entry/Employee.csv\")"
   ]
  },
  {
   "cell_type": "code",
   "execution_count": 4,
   "id": "554b50c1-e59d-427f-887a-55eb82066625",
   "metadata": {},
   "outputs": [
    {
     "name": "stdout",
     "output_type": "stream",
     "text": [
      "Unique Values in 'Company': ['TCS' 'Infosys' 'CTS' nan 'Tata Consultancy Services' 'Congnizant'\n",
      " 'Infosys Pvt Lmt']\n",
      "Number of Unique Value in 'Company': 7\n",
      "\n",
      "Unique Values in 'Age': [20. 30. 35. 40. 23. nan 34. 45. 18. 22. 32. 37. 50. 21. 46. 36. 26. 41.\n",
      " 24. 25. 43. 19. 38. 51. 31. 44. 33. 17.  0. 54.]\n",
      "Number of Unique Value in 'Age': 30\n",
      "\n",
      "Unique Values in 'Salary': [  nan 2300. 3000. 4000. 5000. 6000. 7000. 8000. 9000. 1089. 1234. 3030.\n",
      " 3045. 3184. 4824. 5835. 7084. 8943. 8345. 9284. 9876. 2034. 7654. 2934.\n",
      " 4034. 5034. 8202. 9024. 4345. 6544. 6543. 3234. 4324. 5435. 5555. 8787.\n",
      " 3454. 5654. 5009. 5098. 3033.]\n",
      "Number of Unique Value in 'Salary': 41\n",
      "\n",
      "Unique Values in 'Place': ['Chennai' 'Mumbai' 'Calcutta' 'Delhi' 'Podicherry' 'Cochin' nan 'Noida'\n",
      " 'Hyderabad' 'Bhopal' 'Nagpur' 'Pune']\n",
      "Number of Unique Value in 'Place': 12\n",
      "\n",
      "Unique Values in 'Country': ['India']\n",
      "Number of Unique Value in 'Country': 1\n",
      "\n",
      "Unique Values in 'Gender': [0 1]\n",
      "Number of Unique Value in 'Gender': 2\n",
      "\n"
     ]
    }
   ],
   "source": [
    "# List down the unique values and their lengths for each feature\n",
    "for column in df.columns:\n",
    "    unique_values = df[column].unique()\n",
    "    print(f\"Unique Values in '{column}': {unique_values}\")\n",
    "    print(f\"Number of Unique Value in '{column}': {len(unique_values)}\\n\")"
   ]
  },
  {
   "cell_type": "code",
   "execution_count": 6,
   "id": "1c19a848-8097-47e9-8386-9eff0b29c026",
   "metadata": {},
   "outputs": [
    {
     "name": "stdout",
     "output_type": "stream",
     "text": [
      "              Age       Salary      Gender\n",
      "count  130.000000   124.000000  148.000000\n",
      "mean    30.484615  5312.467742    0.222973\n",
      "std     11.096640  2573.764683    0.417654\n",
      "min      0.000000  1089.000000    0.000000\n",
      "25%     22.000000  3030.000000    0.000000\n",
      "50%     32.500000  5000.000000    0.000000\n",
      "75%     37.750000  8000.000000    0.000000\n",
      "max     54.000000  9876.000000    1.000000\n"
     ]
    }
   ],
   "source": [
    "# Perform statistical analysis for numerical columns\n",
    "statistical_analysis = df.describe()\n",
    "print(statistical_analysis)"
   ]
  },
  {
   "cell_type": "code",
   "execution_count": 8,
   "id": "7ece64f9-59fc-40d6-b34d-aed161d2ab26",
   "metadata": {},
   "outputs": [
    {
     "name": "stdout",
     "output_type": "stream",
     "text": [
      "Missing values in each column:\n",
      " Company     8\n",
      "Age        18\n",
      "Salary     24\n",
      "Place      14\n",
      "Country     0\n",
      "Gender      0\n",
      "dtype: int64\n"
     ]
    }
   ],
   "source": [
    "# Find missing values in the dataset\n",
    "missing_values = df.isnull().sum()\n",
    "print(\"Missing values in each column:\\n\", missing_values)"
   ]
  },
  {
   "cell_type": "code",
   "execution_count": 11,
   "id": "e89b9063-0618-4ae1-acc0-7945e2b337f9",
   "metadata": {},
   "outputs": [
    {
     "name": "stdout",
     "output_type": "stream",
     "text": [
      "Inappropriate Values in 'age' column:\n",
      "      Company  Age  Salary       Place Country  Gender\n",
      "88   Infosys  0.0  3030.0    Calcutta   India       0\n",
      "92       TCS  0.0  3045.0       Delhi   India       0\n",
      "101      CTS  0.0  2034.0  Podicherry   India       0\n",
      "107      TCS  0.0  9024.0     Chennai   India       1\n",
      "111  Infosys  0.0  3234.0      Mumbai   India       0\n",
      "121      CTS  0.0  1234.0    Calcutta   India       0\n"
     ]
    }
   ],
   "source": [
    "# Find inappropriate values (e.g., 0 in 'age' column)\n",
    "inappropriate_values = df[df['Age'] == 0]\n",
    "print(f\"Inappropriate Values in 'age' column:\\n {inappropriate_values}\")"
   ]
  },
  {
   "cell_type": "code",
   "execution_count": 13,
   "id": "ecaa0120-affa-46d8-a76d-1c4fedcf8e65",
   "metadata": {},
   "outputs": [],
   "source": [
    "# Replace 0 with NaN in the 'age' column\n",
    "df['Age'].replace(0, np.nan, inplace = True)"
   ]
  },
  {
   "cell_type": "code",
   "execution_count": 15,
   "id": "283f6433-f9f4-46b3-98d2-84f845c8b497",
   "metadata": {},
   "outputs": [],
   "source": [
    "# Treat missing values using mean, median, or mode\n",
    "# For numerical columns (replace with mean or median)\n",
    "df['Age'].fillna(df['Age'].mean(), inplace = True) # Replace missing 'age' with mean"
   ]
  },
  {
   "cell_type": "code",
   "execution_count": 16,
   "id": "d6566350-1509-4de3-817c-4fd4c6145170",
   "metadata": {},
   "outputs": [],
   "source": [
    "# For categorical columns (replace with mode)"
   ]
  },
  {
   "cell_type": "code",
   "execution_count": 18,
   "id": "269a3bbb-c5ef-43c3-bc68-1dbac57dd67d",
   "metadata": {},
   "outputs": [
    {
     "name": "stderr",
     "output_type": "stream",
     "text": [
      "C:\\Users\\HABEEB\\AppData\\Local\\Temp\\ipykernel_13716\\519565009.py:1: FutureWarning: A value is trying to be set on a copy of a DataFrame or Series through chained assignment using an inplace method.\n",
      "The behavior will change in pandas 3.0. This inplace method will never work because the intermediate object on which we are setting values always behaves as a copy.\n",
      "\n",
      "For example, when doing 'df[col].method(value, inplace=True)', try using 'df.method({col: value}, inplace=True)' or df[col] = df[col].method(value) instead, to perform the operation inplace on the original object.\n",
      "\n",
      "\n",
      "  df['Place'].fillna(df['Place'].mode()[0], inplace = True)# Replace missing 'Place' with mode\n"
     ]
    }
   ],
   "source": [
    "df['Place'].fillna(df['Place'].mode()[0], inplace = True)# Replace missing 'Place' with mode"
   ]
  },
  {
   "cell_type": "code",
   "execution_count": 19,
   "id": "0edd8769-4dbd-42d4-ae94-87002285736b",
   "metadata": {},
   "outputs": [
    {
     "name": "stdout",
     "output_type": "stream",
     "text": [
      "Number of Rows after removing duplicates: 144\n"
     ]
    }
   ],
   "source": [
    "# Remove duplicate rows\n",
    "df.drop_duplicates(inplace = True)\n",
    "print(\"Number of Rows after removing duplicates:\", len(df))"
   ]
  },
  {
   "cell_type": "code",
   "execution_count": 21,
   "id": "449724bc-1ffb-4d43-b34a-65cca5c07717",
   "metadata": {},
   "outputs": [],
   "source": [
    "# Finding Outliers using IQR method\n",
    "Q1 = df['Salary'].quantile(0.25)\n",
    "Q3 = df['Salary'].quantile(0.75)\n",
    "IQR = Q3 - Q1"
   ]
  },
  {
   "cell_type": "code",
   "execution_count": 23,
   "id": "5c5bfc02-2e45-4a9d-8b88-99001cfb0955",
   "metadata": {},
   "outputs": [
    {
     "name": "stdout",
     "output_type": "stream",
     "text": [
      "Number of rows after removing outliers: 121\n"
     ]
    }
   ],
   "source": [
    "# Filtering out outliers\n",
    "lower_bound = Q1 - 1.5 * IQR\n",
    "upper_bound = Q3 + 1.5 * IQR\n",
    "df_cleaned = df[(df['Salary'] >= lower_bound) & (df['Salary'] <= upper_bound)]\n",
    "print(f\"Number of rows after removing outliers: {len(df_cleaned)}\")"
   ]
  },
  {
   "cell_type": "code",
   "execution_count": 3,
   "id": "a33679ff-dc70-4727-9db8-893e03a250e5",
   "metadata": {},
   "outputs": [],
   "source": [
    "# Filtering the data based on the conditions\n",
    "filtered_data = df[(df['Age'] > 40) & (df['Salary'] < 5000)]"
   ]
  },
  {
   "cell_type": "code",
   "execution_count": 6,
   "id": "c35addcc-c09f-4e64-8903-561666015fdb",
   "metadata": {},
   "outputs": [
    {
     "data": {
      "image/png": "[encoded data removed]",
      "text/plain": [
       "<Figure size 1000x600 with 1 Axes>"
      ]
     },
     "metadata": {},
     "output_type": "display_data"
    }
   ],
   "source": [
    "# Scatter plot for age vs salary\n",
    "plt.figure(figsize=(10, 6))\n",
    "plt.scatter(filtered_data['Age'], filtered_data['Salary'], color='blue', alpha=0.6)\n",
    "plt.title('Age vs Salary (Filtered Data)')\n",
    "plt.xlabel('Age')\n",
    "plt.ylabel('Salary')\n",
    "plt.show()"
   ]
  },
  {
   "cell_type": "code",
   "execution_count": 7,
   "id": "cad713a4-9324-4faa-a0cd-18a4376b1f08",
   "metadata": {},
   "outputs": [],
   "source": [
    "# Counting occurrences of each place\n",
    "place_counts = df['Place'].value_counts()"
   ]
  },
  {
   "cell_type": "code",
   "execution_count": 8,
   "id": "061669d6-5e48-409f-80d3-4374c46bdfa0",
   "metadata": {},
   "outputs": [
    {
     "data": {
      "image/png": "[encoded data removed]",
      "text/plain": [
       "<Figure size 1200x600 with 1 Axes>"
      ]
     },
     "metadata": {},
     "output_type": "display_data"
    }
   ],
   "source": [
    "plt.figure(figsize = (12, 6))\n",
    "place_counts.plot(kind = 'bar', color = 'skyblue')\n",
    "plt.title('Number of People from Each Place')\n",
    "plt.xlabel('Place')\n",
    "plt.ylabel('Count')\n",
    "plt.xticks(rotation=45)\n",
    "plt.show()"
   ]
  },
  {
   "cell_type": "code",
   "execution_count": 14,
   "id": "b6c21424-e4de-4510-934a-ebc487d4c955",
   "metadata": {},
   "outputs": [
    {
     "name": "stdout",
     "output_type": "stream",
     "text": [
      "Collecting scikit-learn\n",
      "  Downloading scikit_learn-1.5.2-cp313-cp313-win_amd64.whl.metadata (13 kB)\n",
      "Requirement already satisfied: numpy>=1.19.5 in c:\\users\\habeeb\\appdata\\local\\programs\\python\\python313\\lib\\site-packages (from scikit-learn) (2.1.2)\n",
      "Requirement already satisfied: scipy>=1.6.0 in c:\\users\\habeeb\\appdata\\local\\programs\\python\\python313\\lib\\site-packages (from scikit-learn) (1.14.1)\n",
      "Collecting joblib>=1.2.0 (from scikit-learn)\n",
      "  Downloading joblib-1.4.2-py3-none-any.whl.metadata (5.4 kB)\n",
      "Collecting threadpoolctl>=3.1.0 (from scikit-learn)\n",
      "  Downloading threadpoolctl-3.5.0-py3-none-any.whl.metadata (13 kB)\n",
      "Downloading scikit_learn-1.5.2-cp313-cp313-win_amd64.whl (11.0 MB)\n",
      "   ---------------------------------------- 0.0/11.0 MB ? eta -:--:--\n",
      "   ---------------------------------------- 0.0/11.0 MB ? eta -:--:--\n",
      "    --------------------------------------- 0.3/11.0 MB ? eta -:--:--\n",
      "   - -------------------------------------- 0.5/11.0 MB 1.1 MB/s eta 0:00:10\n",
      "   -- ------------------------------------- 0.8/11.0 MB 1.8 MB/s eta 0:00:06\n",
      "   --- ------------------------------------ 1.0/11.0 MB 1.4 MB/s eta 0:00:07\n",
      "   ---- ----------------------------------- 1.3/11.0 MB 1.3 MB/s eta 0:00:08\n",
      "   ------ --------------------------------- 1.8/11.0 MB 1.5 MB/s eta 0:00:07\n",
      "   ------- -------------------------------- 2.1/11.0 MB 1.5 MB/s eta 0:00:07\n",
      "   --------- ------------------------------ 2.6/11.0 MB 1.5 MB/s eta 0:00:06\n",
      "   ---------- ----------------------------- 2.9/11.0 MB 1.5 MB/s eta 0:00:06\n",
      "   ------------ --------------------------- 3.4/11.0 MB 1.6 MB/s eta 0:00:05\n",
      "   -------------- ------------------------- 3.9/11.0 MB 1.7 MB/s eta 0:00:05\n",
      "   --------------- ------------------------ 4.2/11.0 MB 1.7 MB/s eta 0:00:04\n",
      "   ----------------- ---------------------- 4.7/11.0 MB 1.7 MB/s eta 0:00:04\n",
      "   ------------------- -------------------- 5.2/11.0 MB 1.8 MB/s eta 0:00:04\n",
      "   -------------------- ------------------- 5.5/11.0 MB 1.7 MB/s eta 0:00:04\n",
      "   ---------------------- ----------------- 6.0/11.0 MB 1.8 MB/s eta 0:00:03\n",
      "   ---------------------- ----------------- 6.3/11.0 MB 1.8 MB/s eta 0:00:03\n",
      "   ------------------------ --------------- 6.8/11.0 MB 1.8 MB/s eta 0:00:03\n",
      "   ------------------------- -------------- 7.1/11.0 MB 1.8 MB/s eta 0:00:03\n",
      "   --------------------------- ------------ 7.6/11.0 MB 1.8 MB/s eta 0:00:02\n",
      "   ----------------------------- ---------- 8.1/11.0 MB 1.8 MB/s eta 0:00:02\n",
      "   ------------------------------ --------- 8.4/11.0 MB 1.9 MB/s eta 0:00:02\n",
      "   -------------------------------- ------- 8.9/11.0 MB 1.9 MB/s eta 0:00:02\n",
      "   --------------------------------- ------ 9.2/11.0 MB 1.9 MB/s eta 0:00:01\n",
      "   ----------------------------------- ---- 9.7/11.0 MB 1.9 MB/s eta 0:00:01\n",
      "   ------------------------------------- -- 10.2/11.0 MB 1.9 MB/s eta 0:00:01\n",
      "   ---------------------------------------  10.7/11.0 MB 1.9 MB/s eta 0:00:01\n",
      "   ---------------------------------------- 11.0/11.0 MB 1.9 MB/s eta 0:00:00\n",
      "Downloading joblib-1.4.2-py3-none-any.whl (301 kB)\n",
      "Downloading threadpoolctl-3.5.0-py3-none-any.whl (18 kB)\n",
      "Installing collected packages: threadpoolctl, joblib, scikit-learn\n",
      "Successfully installed joblib-1.4.2 scikit-learn-1.5.2 threadpoolctl-3.5.0\n",
      "Note: you may need to restart the kernel to use updated packages.\n"
     ]
    }
   ],
   "source": [
    "pip install scikit-learn"
   ]
  },
  {
   "cell_type": "code",
   "execution_count": 15,
   "id": "d5b8b6b4-b3d4-40a0-bb37-07d26c84ba51",
   "metadata": {},
   "outputs": [],
   "source": [
    "from sklearn.preprocessing import LabelEncoder"
   ]
  },
  {
   "cell_type": "code",
   "execution_count": 16,
   "id": "48bf163e-3a89-4135-9d71-5caac7b7b18e",
   "metadata": {},
   "outputs": [],
   "source": [
    "label_encoder = LabelEncoder()"
   ]
  },
  {
   "cell_type": "code",
   "execution_count": 19,
   "id": "e4b6ae58-2baa-4c7f-a48d-26453e7304a3",
   "metadata": {},
   "outputs": [],
   "source": [
    "# Identify categorical columns\n",
    "categorical_columns = df.select_dtypes(include = ['object']).columns"
   ]
  },
  {
   "cell_type": "code",
   "execution_count": 20,
   "id": "9d8ffa7b-1be2-4a62-9968-a5ef4a20d088",
   "metadata": {},
   "outputs": [],
   "source": [
    "# Apply label encoding to each categorical column\n",
    "for col in categorical_columns:\n",
    "    df[col + '_label_encoded'] = label_encoder.fit_transform(df[col])"
   ]
  },
  {
   "cell_type": "code",
   "execution_count": 21,
   "id": "e7a314d0-d6d7-4ef8-87ce-218fc6f239a2",
   "metadata": {},
   "outputs": [],
   "source": [
    "df_one_hot_encoded = pd.get_dummies(df, columns = categorical_columns, prefix = categorical_columns, drop_first = True)"
   ]
  },
  {
   "cell_type": "code",
   "execution_count": 22,
   "id": "2d202740-f108-456c-860a-c2e7fce45c0f",
   "metadata": {},
   "outputs": [
    {
     "data": {
      "text/html": [
       "<div>\n",
       "<style scoped>\n",
       "    .dataframe tbody tr th:only-of-type {\n",
       "        vertical-align: middle;\n",
       "    }\n",
       "\n",
       "    .dataframe tbody tr th {\n",
       "        vertical-align: top;\n",
       "    }\n",
       "\n",
       "    .dataframe thead th {\n",
       "        text-align: right;\n",
       "    }\n",
       "</style>\n",
       "<table border=\"1\" class=\"dataframe\">\n",
       "  <thead>\n",
       "    <tr style=\"text-align: right;\">\n",
       "      <th></th>\n",
       "      <th>Company</th>\n",
       "      <th>Age</th>\n",
       "      <th>Salary</th>\n",
       "      <th>Place</th>\n",
       "      <th>Country</th>\n",
       "      <th>Gender</th>\n",
       "      <th>Company_label_encoded</th>\n",
       "      <th>Place_label_encoded</th>\n",
       "      <th>Country_label_encoded</th>\n",
       "    </tr>\n",
       "  </thead>\n",
       "  <tbody>\n",
       "    <tr>\n",
       "      <th>0</th>\n",
       "      <td>TCS</td>\n",
       "      <td>20.0</td>\n",
       "      <td>NaN</td>\n",
       "      <td>Chennai</td>\n",
       "      <td>India</td>\n",
       "      <td>0</td>\n",
       "      <td>4</td>\n",
       "      <td>2</td>\n",
       "      <td>0</td>\n",
       "    </tr>\n",
       "    <tr>\n",
       "      <th>1</th>\n",
       "      <td>Infosys</td>\n",
       "      <td>30.0</td>\n",
       "      <td>NaN</td>\n",
       "      <td>Mumbai</td>\n",
       "      <td>India</td>\n",
       "      <td>0</td>\n",
       "      <td>2</td>\n",
       "      <td>6</td>\n",
       "      <td>0</td>\n",
       "    </tr>\n",
       "    <tr>\n",
       "      <th>2</th>\n",
       "      <td>TCS</td>\n",
       "      <td>35.0</td>\n",
       "      <td>2300.0</td>\n",
       "      <td>Calcutta</td>\n",
       "      <td>India</td>\n",
       "      <td>0</td>\n",
       "      <td>4</td>\n",
       "      <td>1</td>\n",
       "      <td>0</td>\n",
       "    </tr>\n",
       "    <tr>\n",
       "      <th>3</th>\n",
       "      <td>Infosys</td>\n",
       "      <td>40.0</td>\n",
       "      <td>3000.0</td>\n",
       "      <td>Delhi</td>\n",
       "      <td>India</td>\n",
       "      <td>0</td>\n",
       "      <td>2</td>\n",
       "      <td>4</td>\n",
       "      <td>0</td>\n",
       "    </tr>\n",
       "    <tr>\n",
       "      <th>4</th>\n",
       "      <td>TCS</td>\n",
       "      <td>23.0</td>\n",
       "      <td>4000.0</td>\n",
       "      <td>Mumbai</td>\n",
       "      <td>India</td>\n",
       "      <td>0</td>\n",
       "      <td>4</td>\n",
       "      <td>6</td>\n",
       "      <td>0</td>\n",
       "    </tr>\n",
       "  </tbody>\n",
       "</table>\n",
       "</div>"
      ],
      "text/plain": [
       "   Company   Age  Salary     Place Country  Gender  Company_label_encoded  \\\n",
       "0      TCS  20.0     NaN   Chennai   India       0                      4   \n",
       "1  Infosys  30.0     NaN    Mumbai   India       0                      2   \n",
       "2      TCS  35.0  2300.0  Calcutta   India       0                      4   \n",
       "3  Infosys  40.0  3000.0     Delhi   India       0                      2   \n",
       "4      TCS  23.0  4000.0    Mumbai   India       0                      4   \n",
       "\n",
       "   Place_label_encoded  Country_label_encoded  \n",
       "0                    2                      0  \n",
       "1                    6                      0  \n",
       "2                    1                      0  \n",
       "3                    4                      0  \n",
       "4                    6                      0  "
      ]
     },
     "execution_count": 22,
     "metadata": {},
     "output_type": "execute_result"
    }
   ],
   "source": [
    "df.head()"
   ]
  },
  {
   "cell_type": "code",
   "execution_count": 23,
   "id": "9292a42d-aae8-481c-a87e-7a2785fd91a9",
   "metadata": {},
   "outputs": [],
   "source": [
    "from sklearn.preprocessing import StandardScaler, MinMaxScaler"
   ]
  },
  {
   "cell_type": "code",
   "execution_count": 24,
   "id": "603814dd-6e62-48bb-9389-be0b158df65a",
   "metadata": {},
   "outputs": [],
   "source": [
    "# Initialize scalers\n",
    "standard_scaler = StandardScaler()\n",
    "minmax_scaler = MinMaxScaler()"
   ]
  },
  {
   "cell_type": "code",
   "execution_count": 25,
   "id": "0c8b2f86-d3c6-4a17-880e-93835eeb8f18",
   "metadata": {},
   "outputs": [],
   "source": [
    "# Select features for scaling (excluding any encoded categorical columns or target columns if applicable)\n",
    "# Assuming 'df' is your DataFrame, and you want to scale all columns after encoding\n",
    "scaled_columns = df.select_dtypes(include = ['float64', 'int64']).columns\n"
   ]
  },
  {
   "cell_type": "code",
   "execution_count": 26,
   "id": "becb1093-e238-46fe-80f3-56c9aabf3a3d",
   "metadata": {},
   "outputs": [],
   "source": [
    "# Apply StandardScaler\n",
    "df_standard_scaled = df.copy() # Creating a copy to keep original data intact\n",
    "df_standard_scaled[scaled_columns] = standard_scaler.fit_transform(df[scaled_columns])"
   ]
  },
  {
   "cell_type": "code",
   "execution_count": 27,
   "id": "6cfcd712-2f47-40d2-922c-611b9f535c3d",
   "metadata": {},
   "outputs": [],
   "source": [
    "# Apply MinMaxScaler# Now df_standard_scaled and df_minmax_scaled contain the scaled versions of the original DataFrame\n",
    "df_minmax_scaled = df.copy()  # Creating another copy to apply MinMax scaling\n",
    "df_minmax_scaled[scaled_columns] = minmax_scaler.fit_transform(df[scaled_columns])\n",
    "# Now df_standard_scaled and df_minmax_scaled contain the scaled versions of the original DataFrame"
   ]
  },
  {
   "cell_type": "code",
   "execution_count": null,
   "id": "add184dd-405b-4c5d-b7a2-2d71d26b25cc",
   "metadata": {},
   "outputs": [],
   "source": []
  }
 ],
 "metadata": {
  "kernelspec": {
   "display_name": "Python 3 (ipykernel)",
   "language": "python",
   "name": "python3"
  },
  "language_info": {
   "codemirror_mode": {
    "name": "ipython",
    "version": 3
   },
   "file_extension": ".py",
   "mimetype": "text/x-python",
   "name": "python",
   "nbconvert_exporter": "python",
   "pygments_lexer": "ipython3",
   "version": "3.13.0"
  }
 },
 "nbformat": 4,
 "nbformat_minor": 5
}
